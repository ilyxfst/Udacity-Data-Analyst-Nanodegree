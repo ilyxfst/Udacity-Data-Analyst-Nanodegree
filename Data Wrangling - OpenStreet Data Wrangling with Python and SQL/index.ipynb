{
 "cells": [
  {
   "cell_type": "markdown",
   "metadata": {},
   "source": [
    "# OpenStreet Data Wrangling with Python and SQL\n",
    "#### by Esther Xu\n",
    "\n",
    "## Chosen Map Area\n",
    "#### Arcadia, CA, United States\n",
    "https://mapzen.com/data/metro-extracts/your-extracts/134f64cb12b1\n",
    "\n",
    "\n",
    "I have chosen Arcadia for this project because this is a place where I live currently.I am more interested to explore the map of this area, and reveal some inconsistencies.\n",
    "\n",
    "## Auditing and Cleaning the Data\n",
    "After downloading and auditing the xml data of Arcadia area,and running the method ('audit_data(osm_file)') in auditingData.py. Then I noticed there are two problems in this representing data:\n",
    "* Abbbreviated Street Names.                               \n",
    "  Las Tunas Dr. => Las Tunas Drive                       \n",
    "  850 S Baldwin Ave => 850 S Baldwin Avenue                         \n",
    "  Duarte Rd => Duarte Road                                        \n",
    "\n",
    "           \n",
    "* Phone numbers had different formats.                      \n",
    "  (626) 836-6888 => (626)836-6888                    \n",
    "  +1(626) 305-9223 => (626)305-9223                    \n",
    "  +1 626-301-7838 => (626)301-7838                         \n",
    "  (625)574-YOGA => (625)574-9642                  \n",
    "\n",
    "I used update_data_to_new_file() method in auditingData.py to creat a new file called update_arcadia.osm. In this file, I have made the following changes to the above problems:\n",
    "\n",
    "First of all I changed all abbreviations of street type.\n",
    "\n",
    "In addition, I changed phone representations to (626)999-9999.I standardized the phone number formatting by removing all spaces,hyphens,parenthesis,dot,and plus sign.Then I convert the letters to numbers and formatted phone with parenthesis and hyphens.\n",
    "\n",
    "## Preparing for SQL Database\n",
    "After auditing is complete the next step is to prepare the data to be inserted into a SQL database. To do so I parsed the elements in the OSM XML file, transformed them document format to tabular format, thus making it possible to write to .CSV files. These csv files can then easily be imported to a SQL database as tables.You can take a look at code in transferToSQL.py.\n",
    "\n",
    "Eventually I built a SQL database and imported tables to this database from csv file. I used sqlite3 shell for this propose.The following these steps:          \n",
    "\n",
    "** 1.create a new database by executing command:  **               "
   ]
  },
  {
   "cell_type": "code",
   "execution_count": 2,
   "metadata": {},
   "outputs": [],
   "source": [
    "sqlite3 openstreet.db"
   ]
  },
  {
   "cell_type": "markdown",
   "metadata": {},
   "source": [
    "**2.create tabales:**    "
   ]
  },
  {
   "cell_type": "code",
   "execution_count": 3,
   "metadata": {
    "collapsed": true
   },
   "outputs": [],
   "source": [
    "sqlite> .read create_db.sql                   \n",
    "sqlite> .tables   "
   ]
  },
  {
   "cell_type": "markdown",
   "metadata": {},
   "source": [
    "nodes       nodes_tags  ways        ways_nodes  ways_tags "
   ]
  },
  {
   "cell_type": "markdown",
   "metadata": {},
   "source": [
    "**3.import data:**  "
   ]
  },
  {
   "cell_type": "code",
   "execution_count": 5,
   "metadata": {
    "collapsed": true
   },
   "outputs": [],
   "source": [
    "sqlite> .import nodes.csv nodes\n",
    "sqlite> .import ways.csv ways\n",
    "\n",
    "sqlite> .import nodes_tags.csv nodes_tags\n",
    "sqlite> delete from nodes_tags where id = 'id';\n",
    "\n",
    "sqlite> .import ways_tags.csv ways_tags\n",
    "sqlite> delete from ways_tags where id = 'id';\n",
    "\n",
    "sqlite> .import ways_nodes.csv ways_nodes\n",
    "sqlite> delete from ways_nodes where id = 'id';"
   ]
  },
  {
   "cell_type": "markdown",
   "metadata": {},
   "source": [
    "## Querying SQL Database\n",
    "In this section, some basic statitics about the data are presented.\n",
    "\n",
    "### File Sizes\n",
    "* arcadia.osm ................... 222.5 MB\n",
    "* update_arcadia.osm ...... 225.1 MB\n",
    "* nodes.csv ...................... 92.1 MB\n",
    "* nodes_tags.csv .............. 0.25 KB\n",
    "* ways.csv ........................ 6.3 MB\n",
    "* ways_tags.csv ............... 20.2 MB\n",
    "* ways_nodes.cv .............. 25.9 MB \n",
    "* openstreet.db ................ 126.1 MB "
   ]
  },
  {
   "cell_type": "markdown",
   "metadata": {},
   "source": [
    "### Number of Nodes"
   ]
  },
  {
   "cell_type": "code",
   "execution_count": 9,
   "metadata": {},
   "outputs": [],
   "source": [
    "sqlite> select count(*) from nodes;"
   ]
  },
  {
   "cell_type": "markdown",
   "metadata": {},
   "source": [
    "969735"
   ]
  },
  {
   "cell_type": "markdown",
   "metadata": {},
   "source": [
    "### Number of Ways"
   ]
  },
  {
   "cell_type": "code",
   "execution_count": 11,
   "metadata": {},
   "outputs": [],
   "source": [
    "sqlite> select count(*) from ways;    "
   ]
  },
  {
   "cell_type": "markdown",
   "metadata": {},
   "source": [
    "90545"
   ]
  },
  {
   "cell_type": "markdown",
   "metadata": {},
   "source": [
    "### Number of Unique Users"
   ]
  },
  {
   "cell_type": "code",
   "execution_count": 12,
   "metadata": {
    "collapsed": true
   },
   "outputs": [],
   "source": [
    "sqlite> select count(distinct(uid)) from (select uid from nodes union all select uid from ways);                 "
   ]
  },
  {
   "cell_type": "markdown",
   "metadata": {},
   "source": [
    "247"
   ]
  },
  {
   "cell_type": "markdown",
   "metadata": {},
   "source": [
    "### Top 10 Contributing Users"
   ]
  },
  {
   "cell_type": "code",
   "execution_count": 13,
   "metadata": {
    "collapsed": true
   },
   "outputs": [],
   "source": [
    "sqlite> select user,count(uid) as cnt from (select user,uid from nodes union all select user,uid from ways) group by user order by cnt desc limit 10;                  "
   ]
  },
  {
   "cell_type": "markdown",
   "metadata": {},
   "source": [
    "nammala_labuildings,297999             \n",
    "poornima_labuildings,185528                 \n",
    "saikabhi_LA_imports,123392                \n",
    "yurasi_import,114860                 \n",
    "dannykath_labuildings,93623                 \n",
    "upendra_labuilding,44168             \n",
    "Jothirnadh_labuildings,41904              \n",
    "karitotp_labuildings,37524                  \n",
    "nikhil_imports,28863                             \n",
    "schleuss_imports,26361 "
   ]
  },
  {
   "cell_type": "markdown",
   "metadata": {},
   "source": [
    "### Number of users appearing only once (having 1 post)"
   ]
  },
  {
   "cell_type": "code",
   "execution_count": 14,
   "metadata": {
    "collapsed": true
   },
   "outputs": [],
   "source": [
    "sqlite> select count(*) from (select user, count(*) as cnt from (select user,uid from nodes union all select user,uid from ways) group by uid having cnt = 1);                                          "
   ]
  },
  {
   "cell_type": "markdown",
   "metadata": {},
   "source": [
    "48"
   ]
  },
  {
   "cell_type": "markdown",
   "metadata": {},
   "source": [
    "### The Distribution of Religion "
   ]
  },
  {
   "cell_type": "code",
   "execution_count": 15,
   "metadata": {
    "collapsed": true
   },
   "outputs": [],
   "source": [
    "sqlite> SELECT a.value, COUNT(*) as cnt                  \n",
    "   ...> FROM nodes_tags a,                    \n",
    "   ...>      (SELECT DISTINCT(id) FROM nodes_tags WHERE value='place_of_worship') b                 \n",
    "   ...> WHERE a.id = b.id                              \n",
    "   ...>   and a.key='religion'                   \n",
    "   ...> GROUP BY a.value               \n",
    "   ...> ORDER BY cnt DESC;      "
   ]
  },
  {
   "cell_type": "markdown",
   "metadata": {},
   "source": [
    "christian,80"
   ]
  },
  {
   "cell_type": "markdown",
   "metadata": {},
   "source": [
    "### Most Popular Cuisines"
   ]
  },
  {
   "cell_type": "code",
   "execution_count": 16,
   "metadata": {
    "collapsed": true
   },
   "outputs": [],
   "source": [
    "sqlite> SELECT a.value, COUNT(*) as cnt                 \n",
    "   ...> FROM nodes_tags a,                         \n",
    "   ...>      (SELECT DISTINCT(id) FROM nodes_tags WHERE value='restaurant') b                  \n",
    "   ...> WHERE a.id = b.id                        \n",
    "   ...>   and a.key='cuisine'                  \n",
    "   ...> GROUP BY a.value                    \n",
    "   ...> ORDER BY cnt DESC;      "
   ]
  },
  {
   "cell_type": "markdown",
   "metadata": {},
   "source": [
    "american,10                     \n",
    "chinese,9                \n",
    "italian,5              \n",
    "mexican,5             \n",
    "japanese,3            \n",
    "pizza,3            \n",
    "asian,2            \n",
    "burger,2            \n",
    "mediterranean,2              \n",
    "sushi,2             \n",
    "thai,2             \n",
    "Cuban,1            \n",
    "french,1            \n",
    "international,1              \n",
    "taiwanese,1    "
   ]
  },
  {
   "cell_type": "markdown",
   "metadata": {},
   "source": [
    "## Conclusion\n",
    "OpenStreetMap data is not perfect which can be modified by anyone.There are a lot human-made errors in the data.I just made my first step which was standarized street types,and phones numbers to make them more consistent and uniform. Then I transformed XML to CSV format and imported it into SQL database.Finally I answered some questions by SQL queries.\n",
    "\n",
    "In this data analysis, all data have not been formatted and cleaned completely because it is so large. However, I parsed this data and corrected street types, post codes and phones formatting. \n",
    "\n",
    "To improve the quality of OpenStreeMap data is very important.For my perspective,there are two ways to do it.\n",
    "\n",
    "* First of all,making some standards to retrict input by procedure so that improve the accuracy of the data.For example, entering phone number should be only this format:(xxx)xxx-xxxx. So that data can be easily used.\n",
    "\n",
    "* Second, the human-made data is automatically compared with the data from professional organization through the procedure.                \n",
    "              \n",
    "Benefits                        \n",
    "1.maximun benefit of overall map quality                      \n",
    "2.Be used by more people                              \n",
    "\n",
    "Anticipated Issues                 \n",
    "1.difficult to obtain third-party data and verify the validiy of its data            \n",
    "2.need a lot of money into the development of the program                  \n"
   ]
  }
 ],
 "metadata": {
  "kernelspec": {
   "display_name": "Python 3",
   "language": "python",
   "name": "python3"
  },
  "language_info": {
   "codemirror_mode": {
    "name": "ipython",
    "version": 3
   },
   "file_extension": ".py",
   "mimetype": "text/x-python",
   "name": "python",
   "nbconvert_exporter": "python",
   "pygments_lexer": "ipython3",
   "version": "3.6.1"
  }
 },
 "nbformat": 4,
 "nbformat_minor": 2
}
