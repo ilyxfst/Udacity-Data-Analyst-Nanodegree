{
 "cells": [
  {
   "cell_type": "code",
   "execution_count": 2,
   "metadata": {
    "collapsed": true
   },
   "outputs": [],
   "source": [
    "import numpy as np\n",
    "# First 20 countries with employment data\n",
    "countries = np.array([\n",
    "    'Afghanistan', 'Albania', 'Algeria', 'Angola', 'Argentina',\n",
    "    'Armenia', 'Australia', 'Austria', 'Azerbaijan', 'Bahamas',\n",
    "    'Bahrain', 'Bangladesh', 'Barbados', 'Belarus', 'Belgium',\n",
    "    'Belize', 'Benin', 'Bhutan', 'Bolivia',\n",
    "    'Bosnia and Herzegovina'\n",
    "])\n",
    "\n",
    "# Employment data in 2007 for those 20 countries\n",
    "employment = np.array([\n",
    "    55.70000076,  51.40000153,  50.5       ,  75.69999695,\n",
    "    58.40000153,  40.09999847,  61.5       ,  57.09999847,\n",
    "    60.90000153,  66.59999847,  60.40000153,  68.09999847,\n",
    "    66.90000153,  53.40000153,  48.59999847,  56.79999924,\n",
    "    71.59999847,  58.40000153,  70.40000153,  41.20000076\n",
    "])"
   ]
  },
  {
   "cell_type": "code",
   "execution_count": 8,
   "metadata": {},
   "outputs": [
    {
     "name": "stdout",
     "output_type": "stream",
     "text": [
      "('Angola', 75.699996949999999)\n"
     ]
    }
   ],
   "source": [
    "def max_employment(countries, employment):\n",
    "    i = employment.argmax()\n",
    "    max_country = countries[i]\n",
    "    max_value = employment[i]\n",
    "    return (max_country, max_value)\n",
    "print(max_employment(countries, employment))"
   ]
  },
  {
   "cell_type": "code",
   "execution_count": 18,
   "metadata": {},
   "outputs": [
    {
     "name": "stdout",
     "output_type": "stream",
     "text": [
      "[ 0.05369715  0.05716586  0.05647917  0.05197081  0.0576177   0.05466186\n",
      "  0.0570026   0.05111439  0.05170303  0.04993214  0.05525806  0.05484903\n",
      "  0.05244785  0.06534766  0.05473283  0.01840124  0.02333835  0.05066017\n",
      "  0.03179192  0.05182816]\n"
     ]
    }
   ],
   "source": [
    "female_completion = np.array([\n",
    "    97.35583,  104.62379,  103.02998,   95.14321,  103.69019,\n",
    "    98.49185,  100.88828,   95.43974,   92.11484,   91.54804,\n",
    "    95.98029,   98.22902,   96.12179,  119.28105,   97.84627,\n",
    "    29.07386,   38.41644,   90.70509,   51.7478 ,   95.45072\n",
    "])\n",
    "\n",
    "# Male school completion rate in 2007 for those 20 countries\n",
    "male_completion = np.array([\n",
    "     95.47622,  100.66476,   99.7926 ,   91.48936,  103.22096,\n",
    "     97.80458,  103.81398,   88.11736,   93.55611,   87.76347,\n",
    "    102.45714,   98.73953,   92.22388,  115.3892 ,   98.70502,\n",
    "     37.00692,   45.39401,   91.22084,   62.42028,   90.66958\n",
    "])\n",
    "\n",
    "\n",
    "def overall_completion_rate(female_completion, male_completion):\n",
    "    '''\n",
    "    Fill in this function to return a NumPy array containing the overall\n",
    "    school completion rate for each country. The arguments are NumPy\n",
    "    arrays giving the female and male completion of each country in\n",
    "    the same order.\n",
    "    '''\n",
    "    overall_completion = female_completion+male_completion\n",
    "   \n",
    "    \n",
    "    return (overall_completion/total_completion)\n",
    "print(overall_completion_rate(female_completion, male_completion))"
   ]
  },
  {
   "cell_type": "code",
   "execution_count": null,
   "metadata": {
    "collapsed": true
   },
   "outputs": [],
   "source": [
    "def standardize_data(values):    \n",
    "    standardized_values = (values - values.mean()) /values.std()\n",
    "    return standardized values\n"
   ]
  }
 ],
 "metadata": {
  "kernelspec": {
   "display_name": "Python 3",
   "language": "python",
   "name": "python3"
  },
  "language_info": {
   "codemirror_mode": {
    "name": "ipython",
    "version": 3
   },
   "file_extension": ".py",
   "mimetype": "text/x-python",
   "name": "python",
   "nbconvert_exporter": "python",
   "pygments_lexer": "ipython3",
   "version": "3.6.1"
  }
 },
 "nbformat": 4,
 "nbformat_minor": 2
}
