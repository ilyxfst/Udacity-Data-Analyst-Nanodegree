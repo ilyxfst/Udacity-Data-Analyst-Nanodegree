{
 "cells": [
  {
   "cell_type": "code",
   "execution_count": 18,
   "metadata": {},
   "outputs": [
    {
     "name": "stdout",
     "output_type": "stream",
     "text": [
      "For the sample of the congruent condition\n",
      "mean:14.05  median:14.36  standard deviation:3.56\n"
     ]
    }
   ],
   "source": [
    "import pandas as pd\n",
    "import numpy as np\n",
    "# read data\n",
    "stroop_data = pd.read_csv('stroopdata.csv');\n",
    "\n",
    "# the sample average,median,standard deviation for the congruent condition\n",
    "congruent_data = stroop_data['Congruent']\n",
    "avg_congruent = round(congruent_data.mean(), 2)\n",
    "median_congruent = round(congruent_data.median(), 2)\n",
    "std_congruent = round(congruent_data.std(), 2)\n",
    "print('For the sample of the congruent condition')\n",
    "print( 'mean:%s  median:%s  standard deviation:%s' \n",
    "      % (avg_congruent,median_congruent,std_congruent))\n"
   ]
  },
  {
   "cell_type": "code",
   "execution_count": 20,
   "metadata": {},
   "outputs": [
    {
     "name": "stdout",
     "output_type": "stream",
     "text": [
      "For the sample of the incongruent condition\n",
      "mean:22.02  median:21.02  standard deviation:4.8\n"
     ]
    }
   ],
   "source": [
    "# the sample average,median,standard deviation for the incongruent condition\n",
    "incongruent_data = stroop_data['Incongruent']\n",
    "avg_incongruent = round(incongruent_data.mean(), 2)\n",
    "median_incongruent = round(incongruent_data.median(), 2)\n",
    "std_incongruent = round(incongruent_data.std(), 2)\n",
    "\n",
    "print('For the sample of the incongruent condition')\n",
    "print( 'mean:%s  median:%s  standard deviation:%s' \n",
    "      % (avg_incongruent,median_incongruent,std_incongruent))\n"
   ]
  },
  {
   "cell_type": "code",
   "execution_count": 22,
   "metadata": {},
   "outputs": [
    {
     "name": "stdout",
     "output_type": "stream",
     "text": [
      "The mean difference between the two conditions: -7.97\n"
     ]
    }
   ],
   "source": [
    "# the mean difference between the two conditions\n",
    "mean_diff = round(avg_congruent - avg_incongruent, 2)\n",
    "\n",
    "print('The mean difference between the two conditions:', mean_diff)\n"
   ]
  },
  {
   "cell_type": "code",
   "execution_count": 26,
   "metadata": {},
   "outputs": [
    {
     "name": "stdout",
     "output_type": "stream",
     "text": [
      "The sample standard deviation of the difference between the two conditions: 4.86\n"
     ]
    }
   ],
   "source": [
    "# the sample standard deviation of the difference between the two conditions.\n",
    "std_diff = round((congruent_data - incongruent_data).std(), 2)\n",
    "\n",
    "print('The sample standard deviation of the difference between the two conditions:', std_diff)"
   ]
  },
  {
   "cell_type": "code",
   "execution_count": null,
   "metadata": {
    "collapsed": true
   },
   "outputs": [],
   "source": []
  }
 ],
 "metadata": {
  "kernelspec": {
   "display_name": "Python 3",
   "language": "python",
   "name": "python3"
  },
  "language_info": {
   "codemirror_mode": {
    "name": "ipython",
    "version": 3
   },
   "file_extension": ".py",
   "mimetype": "text/x-python",
   "name": "python",
   "nbconvert_exporter": "python",
   "pygments_lexer": "ipython3",
   "version": "3.6.1"
  }
 },
 "nbformat": 4,
 "nbformat_minor": 2
}
