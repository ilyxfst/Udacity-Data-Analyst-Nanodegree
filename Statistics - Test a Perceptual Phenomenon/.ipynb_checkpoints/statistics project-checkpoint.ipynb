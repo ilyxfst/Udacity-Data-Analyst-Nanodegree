{
 "cells": [
  {
   "cell_type": "code",
   "execution_count": 2,
   "metadata": {},
   "outputs": [
    {
     "name": "stdout",
     "output_type": "stream",
     "text": [
      "For the sample of the congruent condition\n",
      "mean:14.05  median:14.36  standard deviation:3.56\n"
     ]
    }
   ],
   "source": [
    "import pandas as pd\n",
    "import numpy as np\n",
    "# read data\n",
    "stroop_data = pd.read_csv('stroopdata.csv');\n",
    "\n",
    "# the sample average,median,standard deviation for the congruent condition\n",
    "congruent_data = stroop_data['Congruent']\n",
    "avg_congruent = round(congruent_data.mean(), 2)\n",
    "median_congruent = round(congruent_data.median(), 2)\n",
    "std_congruent = round(congruent_data.std(), 2)\n",
    "print('For the sample of the congruent condition')\n",
    "print( 'mean:%s  median:%s  standard deviation:%s' \n",
    "      % (avg_congruent,median_congruent,std_congruent))\n"
   ]
  },
  {
   "cell_type": "code",
   "execution_count": 3,
   "metadata": {},
   "outputs": [
    {
     "name": "stdout",
     "output_type": "stream",
     "text": [
      "For the sample of the incongruent condition\n",
      "mean:22.02  median:21.02  standard deviation:4.8\n"
     ]
    }
   ],
   "source": [
    "# the sample average,median,standard deviation for the incongruent condition\n",
    "incongruent_data = stroop_data['Incongruent']\n",
    "avg_incongruent = round(incongruent_data.mean(), 2)\n",
    "median_incongruent = round(incongruent_data.median(), 2)\n",
    "std_incongruent = round(incongruent_data.std(), 2)\n",
    "\n",
    "print('For the sample of the incongruent condition')\n",
    "print( 'mean:%s  median:%s  standard deviation:%s' \n",
    "      % (avg_incongruent,median_incongruent,std_incongruent))\n"
   ]
  },
  {
   "cell_type": "code",
   "execution_count": 22,
   "metadata": {},
   "outputs": [
    {
     "name": "stdout",
     "output_type": "stream",
     "text": [
      "The mean difference between the two conditions: -7.97\n"
     ]
    }
   ],
   "source": [
    "# the mean difference between the two conditions\n",
    "mean_diff = round(avg_congruent - avg_incongruent, 2)\n",
    "\n",
    "print('The mean difference between the two conditions:', mean_diff)\n"
   ]
  },
  {
   "cell_type": "code",
   "execution_count": 14,
   "metadata": {},
   "outputs": [
    {
     "name": "stdout",
     "output_type": "stream",
     "text": [
      "The sample standard deviation of the difference between the two conditions: 4.86\n"
     ]
    }
   ],
   "source": [
    "# the sample standard deviation of the difference between the two conditions.\n",
    "std_diff = round((congruent_data - incongruent_data).std(), 2)\n",
    "\n",
    "print('The sample standard deviation of the difference between the two conditions:', std_diff)"
   ]
  },
  {
   "cell_type": "code",
   "execution_count": 19,
   "metadata": {},
   "outputs": [
    {
     "ename": "NameError",
     "evalue": "name 'mean_diff' is not defined",
     "output_type": "error",
     "traceback": [
      "\u001b[0;31m---------------------------------------------------------------------------\u001b[0m",
      "\u001b[0;31mNameError\u001b[0m                                 Traceback (most recent call last)",
      "\u001b[0;32m<ipython-input-19-6af4f512c696>\u001b[0m in \u001b[0;36m<module>\u001b[0;34m()\u001b[0m\n\u001b[1;32m      1\u001b[0m \u001b[0mdf\u001b[0m \u001b[0;34m=\u001b[0m \u001b[0mn_sample\u001b[0m \u001b[0;34m-\u001b[0m \u001b[0;36m1\u001b[0m              \u001b[0;31m# the degree of freedom\u001b[0m\u001b[0;34m\u001b[0m\u001b[0m\n\u001b[1;32m      2\u001b[0m \u001b[0mSE\u001b[0m \u001b[0;34m=\u001b[0m \u001b[0mstd_diff\u001b[0m \u001b[0;34m/\u001b[0m \u001b[0mnp\u001b[0m\u001b[0;34m.\u001b[0m\u001b[0msqrt\u001b[0m\u001b[0;34m(\u001b[0m\u001b[0mn_sample\u001b[0m\u001b[0;34m)\u001b[0m \u001b[0;31m# the stardard error of the samples\u001b[0m\u001b[0;34m\u001b[0m\u001b[0m\n\u001b[0;32m----> 3\u001b[0;31m \u001b[0mt_statistics\u001b[0m \u001b[0;34m=\u001b[0m \u001b[0mmean_diff\u001b[0m \u001b[0;34m/\u001b[0m \u001b[0mSE\u001b[0m\u001b[0;34m\u001b[0m\u001b[0m\n\u001b[0m\u001b[1;32m      4\u001b[0m \u001b[0;34m\u001b[0m\u001b[0m\n\u001b[1;32m      5\u001b[0m \u001b[0;31m# p<.05, two-tailed\u001b[0m\u001b[0;34m\u001b[0m\u001b[0;34m\u001b[0m\u001b[0m\n",
      "\u001b[0;31mNameError\u001b[0m: name 'mean_diff' is not defined"
     ]
    }
   ],
   "source": [
    "df = n_sample - 1              # the degree of freedom\n",
    "SE = std_diff / np.sqrt(n_sample) # the stardard error of the samples\n",
    "t_statistics = mean_diff / SE\n",
    "\n",
    "# p<.05, two-tailed\n",
    "t_critical = 2.069\n",
    "margin_error = t_critical * SE # margin of error\n",
    "lower_bound = mean_diff - margin_error\n",
    "upper_bound = mean_diff + margin_error\n",
    "\n",
    "print(\"Standard Error (SE) = \", SE)\n",
    "print(\"Mean of The Difference  = \", mean_diff)\n",
    "print(\"t-statistics = \", round(t_statistics, 2))\n",
    "print(\"t(%s) = ±2.069 , p<.05, two-tailed\" % df)\n",
    "print(\"95 percent confidence interval (%s, %s)\" % (round(lower_bound, 2), round(upper_bound, 2)))"
   ]
  },
  {
   "cell_type": "code",
   "execution_count": 5,
   "metadata": {},
   "outputs": [
    {
     "data": {
      "image/png": "[encoded data removed]",
      "text/plain": [
       "<matplotlib.figure.Figure at 0x10b8a6748>"
      ]
     },
     "metadata": {},
     "output_type": "display_data"
    }
   ],
   "source": [
    "## plot boxplot\n",
    "import matplotlib.pyplot as plt\n",
    "\n",
    "boxplot_data = [congruent_data, incongruent_data]\n",
    "\n",
    "plt.boxplot(boxplot_data,widths = 0.5,)\n",
    "\n",
    "plt.title('Stroop Task',)\n",
    "plt.xlabel('Task Condition')\n",
    "plt.ylabel('Rection Time(seconds)')\n",
    "plt.xticks([1, 2], ['Congruent', 'Incongruent'])\n",
    "\n",
    "plt.show()"
   ]
  },
  {
   "cell_type": "code",
   "execution_count": 11,
   "metadata": {},
   "outputs": [
    {
     "ename": "NameError",
     "evalue": "name 'mean_diff' is not defined",
     "output_type": "error",
     "traceback": [
      "\u001b[0;31m---------------------------------------------------------------------------\u001b[0m",
      "\u001b[0;31mNameError\u001b[0m                                 Traceback (most recent call last)",
      "\u001b[0;32m<ipython-input-11-204eadcdb957>\u001b[0m in \u001b[0;36m<module>\u001b[0;34m()\u001b[0m\n\u001b[1;32m      3\u001b[0m \u001b[0mdf\u001b[0m \u001b[0;34m=\u001b[0m \u001b[0mn_sample\u001b[0m \u001b[0;34m-\u001b[0m \u001b[0;36m1\u001b[0m              \u001b[0;31m# the degree of freedom\u001b[0m\u001b[0;34m\u001b[0m\u001b[0m\n\u001b[1;32m      4\u001b[0m \u001b[0mSE\u001b[0m \u001b[0;34m=\u001b[0m \u001b[0mstd_diff\u001b[0m \u001b[0;34m/\u001b[0m \u001b[0mnp\u001b[0m\u001b[0;34m.\u001b[0m\u001b[0msqrt\u001b[0m\u001b[0;34m(\u001b[0m\u001b[0mn_sample\u001b[0m\u001b[0;34m)\u001b[0m \u001b[0;31m# the stardard error of the samples\u001b[0m\u001b[0;34m\u001b[0m\u001b[0m\n\u001b[0;32m----> 5\u001b[0;31m \u001b[0mt_statistics\u001b[0m \u001b[0;34m=\u001b[0m \u001b[0mmean_diff\u001b[0m \u001b[0;34m/\u001b[0m \u001b[0mSE\u001b[0m\u001b[0;34m\u001b[0m\u001b[0m\n\u001b[0m\u001b[1;32m      6\u001b[0m \u001b[0;34m\u001b[0m\u001b[0m\n\u001b[1;32m      7\u001b[0m \u001b[0;31m# p<.05, two-tailed\u001b[0m\u001b[0;34m\u001b[0m\u001b[0;34m\u001b[0m\u001b[0m\n",
      "\u001b[0;31mNameError\u001b[0m: name 'mean_diff' is not defined"
     ]
    }
   ],
   "source": [
    "\n"
   ]
  }
 ],
 "metadata": {
  "kernelspec": {
   "display_name": "Python 3",
   "language": "python",
   "name": "python3"
  },
  "language_info": {
   "codemirror_mode": {
    "name": "ipython",
    "version": 3
   },
   "file_extension": ".py",
   "mimetype": "text/x-python",
   "name": "python",
   "nbconvert_exporter": "python",
   "pygments_lexer": "ipython3",
   "version": "3.6.1"
  }
 },
 "nbformat": 4,
 "nbformat_minor": 2
}
